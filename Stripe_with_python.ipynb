{
 "cells": [
  {
   "cell_type": "markdown",
   "metadata": {},
   "source": [
    "### import module and setup api key"
   ]
  },
  {
   "cell_type": "code",
   "execution_count": 1,
   "metadata": {},
   "outputs": [],
   "source": [
    "import stripe\n",
    "stripe.api_key = \"sk_test_xxxxxxxxxxxxxxxxxxxxxxxxxxxxxxxxxxmm\""
   ]
  },
  {
   "cell_type": "markdown",
   "metadata": {},
   "source": [
    "### create customer"
   ]
  },
  {
   "cell_type": "code",
   "execution_count": 4,
   "metadata": {},
   "outputs": [
    {
     "data": {
      "text/plain": [
       "<Customer customer id=cus_FLqkPARN8ZxJj2 at 0x7f632cfc2b38> JSON: {\n",
       "  \"account_balance\": 0,\n",
       "  \"address\": null,\n",
       "  \"balance\": 0,\n",
       "  \"created\": 1561924247,\n",
       "  \"currency\": null,\n",
       "  \"default_source\": \"card_1Er92xIypo2lmEr64CPSk8Gr\",\n",
       "  \"delinquent\": false,\n",
       "  \"description\": \"Customer for rajat4665@gmail.com\",\n",
       "  \"discount\": null,\n",
       "  \"email\": \"rajat4665@gmail.com\",\n",
       "  \"id\": \"cus_FLqkPARN8ZxJj2\",\n",
       "  \"invoice_prefix\": \"A75C57F8\",\n",
       "  \"invoice_settings\": {\n",
       "    \"custom_fields\": null,\n",
       "    \"default_payment_method\": null,\n",
       "    \"footer\": null\n",
       "  },\n",
       "  \"livemode\": false,\n",
       "  \"metadata\": {},\n",
       "  \"name\": \"Rajat\",\n",
       "  \"object\": \"customer\",\n",
       "  \"phone\": null,\n",
       "  \"preferred_locales\": [],\n",
       "  \"shipping\": null,\n",
       "  \"sources\": {\n",
       "    \"data\": [\n",
       "      {\n",
       "        \"address_city\": null,\n",
       "        \"address_country\": null,\n",
       "        \"address_line1\": null,\n",
       "        \"address_line1_check\": null,\n",
       "        \"address_line2\": null,\n",
       "        \"address_state\": null,\n",
       "        \"address_zip\": null,\n",
       "        \"address_zip_check\": null,\n",
       "        \"brand\": \"Visa\",\n",
       "        \"country\": \"US\",\n",
       "        \"customer\": \"cus_FLqkPARN8ZxJj2\",\n",
       "        \"cvc_check\": null,\n",
       "        \"dynamic_last4\": null,\n",
       "        \"exp_month\": 6,\n",
       "        \"exp_year\": 2020,\n",
       "        \"fingerprint\": \"lFK19kFxAzY3mAXo\",\n",
       "        \"funding\": \"credit\",\n",
       "        \"id\": \"card_1Er92xIypo2lmEr64CPSk8Gr\",\n",
       "        \"last4\": \"4242\",\n",
       "        \"metadata\": {},\n",
       "        \"name\": null,\n",
       "        \"object\": \"card\",\n",
       "        \"tokenization_method\": null\n",
       "      }\n",
       "    ],\n",
       "    \"has_more\": false,\n",
       "    \"object\": \"list\",\n",
       "    \"total_count\": 1,\n",
       "    \"url\": \"/v1/customers/cus_FLqkPARN8ZxJj2/sources\"\n",
       "  },\n",
       "  \"subscriptions\": {\n",
       "    \"data\": [],\n",
       "    \"has_more\": false,\n",
       "    \"object\": \"list\",\n",
       "    \"total_count\": 0,\n",
       "    \"url\": \"/v1/customers/cus_FLqkPARN8ZxJj2/subscriptions\"\n",
       "  },\n",
       "  \"tax_exempt\": \"none\",\n",
       "  \"tax_ids\": {\n",
       "    \"data\": [],\n",
       "    \"has_more\": false,\n",
       "    \"object\": \"list\",\n",
       "    \"total_count\": 0,\n",
       "    \"url\": \"/v1/customers/cus_FLqkPARN8ZxJj2/tax_ids\"\n",
       "  },\n",
       "  \"tax_info\": null,\n",
       "  \"tax_info_verification\": null\n",
       "}"
      ]
     },
     "execution_count": 4,
     "metadata": {},
     "output_type": "execute_result"
    }
   ],
   "source": [
    "stripe.Customer.create(\n",
    "  description=\"Customer for rajat4665@gmail.com\",\n",
    "    name = 'Rajat',\n",
    "    email = \"rajat4665@gmail.com\",\n",
    "    source=\"tok_visa\" # default testing card details\n",
    ")"
   ]
  },
  {
   "cell_type": "markdown",
   "metadata": {},
   "source": [
    "### existing customer data"
   ]
  },
  {
   "cell_type": "code",
   "execution_count": 5,
   "metadata": {},
   "outputs": [],
   "source": [
    "customer_data = stripe.Customer.retrieve('cus_FLqkPARN8ZxJj2')"
   ]
  },
  {
   "cell_type": "code",
   "execution_count": 6,
   "metadata": {},
   "outputs": [
    {
     "data": {
      "text/plain": [
       "<Customer customer id=cus_FLqkPARN8ZxJj2 at 0x7f632cfd1098> JSON: {\n",
       "  \"account_balance\": 0,\n",
       "  \"address\": null,\n",
       "  \"balance\": 0,\n",
       "  \"created\": 1561924247,\n",
       "  \"currency\": null,\n",
       "  \"default_source\": \"card_1Er92xIypo2lmEr64CPSk8Gr\",\n",
       "  \"delinquent\": false,\n",
       "  \"description\": \"Customer for rajat4665@gmail.com\",\n",
       "  \"discount\": null,\n",
       "  \"email\": \"rajat4665@gmail.com\",\n",
       "  \"id\": \"cus_FLqkPARN8ZxJj2\",\n",
       "  \"invoice_prefix\": \"A75C57F8\",\n",
       "  \"invoice_settings\": {\n",
       "    \"custom_fields\": null,\n",
       "    \"default_payment_method\": null,\n",
       "    \"footer\": null\n",
       "  },\n",
       "  \"livemode\": false,\n",
       "  \"metadata\": {},\n",
       "  \"name\": \"Rajat\",\n",
       "  \"object\": \"customer\",\n",
       "  \"phone\": null,\n",
       "  \"preferred_locales\": [],\n",
       "  \"shipping\": null,\n",
       "  \"sources\": {\n",
       "    \"data\": [\n",
       "      {\n",
       "        \"address_city\": null,\n",
       "        \"address_country\": null,\n",
       "        \"address_line1\": null,\n",
       "        \"address_line1_check\": null,\n",
       "        \"address_line2\": null,\n",
       "        \"address_state\": null,\n",
       "        \"address_zip\": null,\n",
       "        \"address_zip_check\": null,\n",
       "        \"brand\": \"Visa\",\n",
       "        \"country\": \"US\",\n",
       "        \"customer\": \"cus_FLqkPARN8ZxJj2\",\n",
       "        \"cvc_check\": null,\n",
       "        \"dynamic_last4\": null,\n",
       "        \"exp_month\": 6,\n",
       "        \"exp_year\": 2020,\n",
       "        \"fingerprint\": \"lFK19kFxAzY3mAXo\",\n",
       "        \"funding\": \"credit\",\n",
       "        \"id\": \"card_1Er92xIypo2lmEr64CPSk8Gr\",\n",
       "        \"last4\": \"4242\",\n",
       "        \"metadata\": {},\n",
       "        \"name\": null,\n",
       "        \"object\": \"card\",\n",
       "        \"tokenization_method\": null\n",
       "      }\n",
       "    ],\n",
       "    \"has_more\": false,\n",
       "    \"object\": \"list\",\n",
       "    \"total_count\": 1,\n",
       "    \"url\": \"/v1/customers/cus_FLqkPARN8ZxJj2/sources\"\n",
       "  },\n",
       "  \"subscriptions\": {\n",
       "    \"data\": [],\n",
       "    \"has_more\": false,\n",
       "    \"object\": \"list\",\n",
       "    \"total_count\": 0,\n",
       "    \"url\": \"/v1/customers/cus_FLqkPARN8ZxJj2/subscriptions\"\n",
       "  },\n",
       "  \"tax_exempt\": \"none\",\n",
       "  \"tax_ids\": {\n",
       "    \"data\": [],\n",
       "    \"has_more\": false,\n",
       "    \"object\": \"list\",\n",
       "    \"total_count\": 0,\n",
       "    \"url\": \"/v1/customers/cus_FLqkPARN8ZxJj2/tax_ids\"\n",
       "  },\n",
       "  \"tax_info\": null,\n",
       "  \"tax_info_verification\": null\n",
       "}"
      ]
     },
     "execution_count": 6,
     "metadata": {},
     "output_type": "execute_result"
    }
   ],
   "source": [
    "customer_data"
   ]
  },
  {
   "cell_type": "markdown",
   "metadata": {},
   "source": [
    "# Create one-Time payment"
   ]
  },
  {
   "cell_type": "code",
   "execution_count": 7,
   "metadata": {},
   "outputs": [
    {
     "data": {
      "text/plain": [
       "<Charge charge id=ch_1Er95nIypo2lmEr6a5OHItXH at 0x7f632cd95b88> JSON: {\n",
       "  \"amount\": 2000,\n",
       "  \"amount_refunded\": 0,\n",
       "  \"application\": null,\n",
       "  \"application_fee\": null,\n",
       "  \"application_fee_amount\": null,\n",
       "  \"balance_transaction\": \"txn_1Er95nIypo2lmEr6hdX7np2e\",\n",
       "  \"billing_details\": {\n",
       "    \"address\": {\n",
       "      \"city\": null,\n",
       "      \"country\": null,\n",
       "      \"line1\": null,\n",
       "      \"line2\": null,\n",
       "      \"postal_code\": null,\n",
       "      \"state\": null\n",
       "    },\n",
       "    \"email\": null,\n",
       "    \"name\": null,\n",
       "    \"phone\": null\n",
       "  },\n",
       "  \"captured\": true,\n",
       "  \"created\": 1561924423,\n",
       "  \"currency\": \"usd\",\n",
       "  \"customer\": null,\n",
       "  \"description\": \"Charge for rajat4665@example.com\",\n",
       "  \"destination\": null,\n",
       "  \"dispute\": null,\n",
       "  \"failure_code\": null,\n",
       "  \"failure_message\": null,\n",
       "  \"fraud_details\": {},\n",
       "  \"id\": \"ch_1Er95nIypo2lmEr6a5OHItXH\",\n",
       "  \"invoice\": null,\n",
       "  \"livemode\": false,\n",
       "  \"metadata\": {},\n",
       "  \"object\": \"charge\",\n",
       "  \"on_behalf_of\": null,\n",
       "  \"order\": null,\n",
       "  \"outcome\": {\n",
       "    \"network_status\": \"approved_by_network\",\n",
       "    \"reason\": null,\n",
       "    \"risk_level\": \"normal\",\n",
       "    \"risk_score\": 21,\n",
       "    \"seller_message\": \"Payment complete.\",\n",
       "    \"type\": \"authorized\"\n",
       "  },\n",
       "  \"paid\": true,\n",
       "  \"payment_intent\": null,\n",
       "  \"payment_method\": \"card_1Er95nIypo2lmEr6jAs4Vn3R\",\n",
       "  \"payment_method_details\": {\n",
       "    \"card\": {\n",
       "      \"brand\": \"mastercard\",\n",
       "      \"checks\": {\n",
       "        \"address_line1_check\": null,\n",
       "        \"address_postal_code_check\": null,\n",
       "        \"cvc_check\": null\n",
       "      },\n",
       "      \"country\": \"US\",\n",
       "      \"exp_month\": 6,\n",
       "      \"exp_year\": 2020,\n",
       "      \"fingerprint\": \"bTKvdEgUvzW6ZUSF\",\n",
       "      \"funding\": \"credit\",\n",
       "      \"last4\": \"4444\",\n",
       "      \"three_d_secure\": null,\n",
       "      \"wallet\": null\n",
       "    },\n",
       "    \"type\": \"card\"\n",
       "  },\n",
       "  \"receipt_email\": null,\n",
       "  \"receipt_number\": null,\n",
       "  \"receipt_url\": \"https://pay.stripe.com/receipts/acct_1EoRh7Iypo2lmEr6/ch_1Er95nIypo2lmEr6a5OHItXH/rcpt_FLqngdIG3A3TyFEUAquTvMmZCR3gazP\",\n",
       "  \"refunded\": false,\n",
       "  \"refunds\": {\n",
       "    \"data\": [],\n",
       "    \"has_more\": false,\n",
       "    \"object\": \"list\",\n",
       "    \"total_count\": 0,\n",
       "    \"url\": \"/v1/charges/ch_1Er95nIypo2lmEr6a5OHItXH/refunds\"\n",
       "  },\n",
       "  \"review\": null,\n",
       "  \"shipping\": null,\n",
       "  \"source\": {\n",
       "    \"address_city\": null,\n",
       "    \"address_country\": null,\n",
       "    \"address_line1\": null,\n",
       "    \"address_line1_check\": null,\n",
       "    \"address_line2\": null,\n",
       "    \"address_state\": null,\n",
       "    \"address_zip\": null,\n",
       "    \"address_zip_check\": null,\n",
       "    \"brand\": \"MasterCard\",\n",
       "    \"country\": \"US\",\n",
       "    \"customer\": null,\n",
       "    \"cvc_check\": null,\n",
       "    \"dynamic_last4\": null,\n",
       "    \"exp_month\": 6,\n",
       "    \"exp_year\": 2020,\n",
       "    \"fingerprint\": \"bTKvdEgUvzW6ZUSF\",\n",
       "    \"funding\": \"credit\",\n",
       "    \"id\": \"card_1Er95nIypo2lmEr6jAs4Vn3R\",\n",
       "    \"last4\": \"4444\",\n",
       "    \"metadata\": {},\n",
       "    \"name\": null,\n",
       "    \"object\": \"card\",\n",
       "    \"tokenization_method\": null\n",
       "  },\n",
       "  \"source_transfer\": null,\n",
       "  \"statement_descriptor\": null,\n",
       "  \"status\": \"succeeded\",\n",
       "  \"transfer_data\": null,\n",
       "  \"transfer_group\": null\n",
       "}"
      ]
     },
     "execution_count": 7,
     "metadata": {},
     "output_type": "execute_result"
    }
   ],
   "source": [
    "stripe.Charge.create(\n",
    "  amount=2000, # amount multyply by 100 , here actual it is $20 \n",
    "  currency=\"usd\", # currency\n",
    "  source=\"tok_mastercard\", # obtained with Stripe.js\n",
    "  description=\"Charge for rajat4665@example.com\"\n",
    ")"
   ]
  },
  {
   "cell_type": "markdown",
   "metadata": {},
   "source": [
    "# create Subscription"
   ]
  },
  {
   "cell_type": "markdown",
   "metadata": {},
   "source": [
    "### two things need for subsription  customer_id , plan_id "
   ]
  },
  {
   "cell_type": "code",
   "execution_count": 12,
   "metadata": {},
   "outputs": [
    {
     "data": {
      "text/plain": [
       "<ListObject list at 0x7f632cd23e08> JSON: {\n",
       "  \"data\": [\n",
       "    {\n",
       "      \"active\": true,\n",
       "      \"aggregate_usage\": null,\n",
       "      \"amount\": 1000,\n",
       "      \"billing_scheme\": \"per_unit\",\n",
       "      \"created\": 1561922614,\n",
       "      \"currency\": \"usd\",\n",
       "      \"id\": \"plan_FLqJYiz3PiWtjo\",\n",
       "      \"interval\": \"month\",\n",
       "      \"interval_count\": 1,\n",
       "      \"livemode\": false,\n",
       "      \"metadata\": {},\n",
       "      \"nickname\": \"basic_plan\",\n",
       "      \"object\": \"plan\",\n",
       "      \"product\": \"prod_FLqI3e6Essegui\",\n",
       "      \"tiers\": null,\n",
       "      \"tiers_mode\": null,\n",
       "      \"transform_usage\": null,\n",
       "      \"trial_period_days\": null,\n",
       "      \"usage_type\": \"licensed\"\n",
       "    }\n",
       "  ],\n",
       "  \"has_more\": false,\n",
       "  \"object\": \"list\",\n",
       "  \"url\": \"/v1/plans\"\n",
       "}"
      ]
     },
     "execution_count": 12,
     "metadata": {},
     "output_type": "execute_result"
    }
   ],
   "source": [
    "stripe.Plan.list()  # this command fetch all plans "
   ]
  },
  {
   "cell_type": "code",
   "execution_count": 14,
   "metadata": {},
   "outputs": [],
   "source": [
    "plan = stripe.Plan.list()\n",
    "plan_id = plan['data'][0]['id']\n"
   ]
  },
  {
   "cell_type": "code",
   "execution_count": 15,
   "metadata": {},
   "outputs": [
    {
     "data": {
      "text/plain": [
       "'plan_FLqJYiz3PiWtjo'"
      ]
     },
     "execution_count": 15,
     "metadata": {},
     "output_type": "execute_result"
    }
   ],
   "source": [
    "plan_id"
   ]
  },
  {
   "cell_type": "markdown",
   "metadata": {},
   "source": [
    "### now create subscription"
   ]
  },
  {
   "cell_type": "code",
   "execution_count": 16,
   "metadata": {},
   "outputs": [
    {
     "data": {
      "text/plain": [
       "<Subscription subscription id=sub_FLqrJYMk9j81VM at 0x7f632cd504f8> JSON: {\n",
       "  \"application_fee_percent\": null,\n",
       "  \"billing\": \"charge_automatically\",\n",
       "  \"billing_cycle_anchor\": 1561924661,\n",
       "  \"billing_thresholds\": null,\n",
       "  \"cancel_at\": null,\n",
       "  \"cancel_at_period_end\": false,\n",
       "  \"canceled_at\": null,\n",
       "  \"collection_method\": \"charge_automatically\",\n",
       "  \"created\": 1561924661,\n",
       "  \"current_period_end\": 1564516661,\n",
       "  \"current_period_start\": 1561924661,\n",
       "  \"customer\": \"cus_FLqkPARN8ZxJj2\",\n",
       "  \"days_until_due\": null,\n",
       "  \"default_payment_method\": null,\n",
       "  \"default_source\": null,\n",
       "  \"default_tax_rates\": [],\n",
       "  \"discount\": null,\n",
       "  \"ended_at\": null,\n",
       "  \"id\": \"sub_FLqrJYMk9j81VM\",\n",
       "  \"items\": {\n",
       "    \"data\": [\n",
       "      {\n",
       "        \"billing_thresholds\": null,\n",
       "        \"created\": 1561924662,\n",
       "        \"id\": \"si_FLqrThInLSfhXi\",\n",
       "        \"metadata\": {},\n",
       "        \"object\": \"subscription_item\",\n",
       "        \"plan\": {\n",
       "          \"active\": true,\n",
       "          \"aggregate_usage\": null,\n",
       "          \"amount\": 1000,\n",
       "          \"billing_scheme\": \"per_unit\",\n",
       "          \"created\": 1561922614,\n",
       "          \"currency\": \"usd\",\n",
       "          \"id\": \"plan_FLqJYiz3PiWtjo\",\n",
       "          \"interval\": \"month\",\n",
       "          \"interval_count\": 1,\n",
       "          \"livemode\": false,\n",
       "          \"metadata\": {},\n",
       "          \"nickname\": \"basic_plan\",\n",
       "          \"object\": \"plan\",\n",
       "          \"product\": \"prod_FLqI3e6Essegui\",\n",
       "          \"tiers\": null,\n",
       "          \"tiers_mode\": null,\n",
       "          \"transform_usage\": null,\n",
       "          \"trial_period_days\": null,\n",
       "          \"usage_type\": \"licensed\"\n",
       "        },\n",
       "        \"quantity\": 1,\n",
       "        \"subscription\": \"sub_FLqrJYMk9j81VM\",\n",
       "        \"tax_rates\": []\n",
       "      }\n",
       "    ],\n",
       "    \"has_more\": false,\n",
       "    \"object\": \"list\",\n",
       "    \"total_count\": 1,\n",
       "    \"url\": \"/v1/subscription_items?subscription=sub_FLqrJYMk9j81VM\"\n",
       "  },\n",
       "  \"latest_invoice\": \"in_1Er99dIypo2lmEr6ouz96RQr\",\n",
       "  \"livemode\": false,\n",
       "  \"metadata\": {},\n",
       "  \"object\": \"subscription\",\n",
       "  \"plan\": {\n",
       "    \"active\": true,\n",
       "    \"aggregate_usage\": null,\n",
       "    \"amount\": 1000,\n",
       "    \"billing_scheme\": \"per_unit\",\n",
       "    \"created\": 1561922614,\n",
       "    \"currency\": \"usd\",\n",
       "    \"id\": \"plan_FLqJYiz3PiWtjo\",\n",
       "    \"interval\": \"month\",\n",
       "    \"interval_count\": 1,\n",
       "    \"livemode\": false,\n",
       "    \"metadata\": {},\n",
       "    \"nickname\": \"basic_plan\",\n",
       "    \"object\": \"plan\",\n",
       "    \"product\": \"prod_FLqI3e6Essegui\",\n",
       "    \"tiers\": null,\n",
       "    \"tiers_mode\": null,\n",
       "    \"transform_usage\": null,\n",
       "    \"trial_period_days\": null,\n",
       "    \"usage_type\": \"licensed\"\n",
       "  },\n",
       "  \"quantity\": 1,\n",
       "  \"schedule\": null,\n",
       "  \"start\": 1561924661,\n",
       "  \"start_date\": 1561924661,\n",
       "  \"status\": \"active\",\n",
       "  \"tax_percent\": null,\n",
       "  \"trial_end\": null,\n",
       "  \"trial_start\": null\n",
       "}"
      ]
     },
     "execution_count": 16,
     "metadata": {},
     "output_type": "execute_result"
    }
   ],
   "source": [
    "stripe.Subscription.create(\n",
    "  customer=\"cus_FLqkPARN8ZxJj2\", # customer_id\n",
    "  items=[\n",
    "    {\n",
    "      \"plan\": \"plan_FLqJYiz3PiWtjo\", # plan id\n",
    "    },\n",
    "  ]\n",
    ")\n",
    "\n",
    "# save subscription id=sub_FLqrJYMk9j81VM  it will use further"
   ]
  },
  {
   "cell_type": "markdown",
   "metadata": {},
   "source": [
    "## cancel Subscription"
   ]
  },
  {
   "cell_type": "code",
   "execution_count": null,
   "metadata": {},
   "outputs": [],
   "source": [
    "stripe.Subscription.create(\n",
    "  customer=\"cus_FLpiGJp4IqREJj\",\n",
    "  items=[\n",
    "    {\n",
    "      \"plan\": \"plan_FLqJYiz3PiWtjo\",\n",
    "    },\n",
    "  ]\n",
    ")"
   ]
  },
  {
   "cell_type": "markdown",
   "metadata": {},
   "source": [
    "## delete customer"
   ]
  },
  {
   "cell_type": "code",
   "execution_count": null,
   "metadata": {},
   "outputs": [],
   "source": [
    "stripe.Customer.delete('cus_id')"
   ]
  }
 ],
 "metadata": {
  "kernelspec": {
   "display_name": "Python 3",
   "language": "python",
   "name": "python3"
  },
  "language_info": {
   "codemirror_mode": {
    "name": "ipython",
    "version": 3
   },
   "file_extension": ".py",
   "mimetype": "text/x-python",
   "name": "python",
   "nbconvert_exporter": "python",
   "pygments_lexer": "ipython3",
   "version": "3.5.2"
  }
 },
 "nbformat": 4,
 "nbformat_minor": 2
}
